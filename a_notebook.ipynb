{
 "cells": [
  {
   "cell_type": "code",
   "execution_count": 1,
   "metadata": {},
   "outputs": [],
   "source": [
    "import pandas as pd\n",
    "import numpy as np\n"
   ]
  },
  {
   "cell_type": "code",
   "execution_count": 1,
   "metadata": {},
   "outputs": [
    {
     "name": "stderr",
     "output_type": "stream",
     "text": [
      "2024-01-04 12:11:10.889 \n",
      "  \u001b[33m\u001b[1mWarning:\u001b[0m to view this Streamlit app on a browser, run it with the following\n",
      "  command:\n",
      "\n",
      "    streamlit run c:\\Users\\Shivam\\miniconda3\\envs\\mlops\\lib\\site-packages\\ipykernel_launcher.py [ARGUMENTS]\n"
     ]
    }
   ],
   "source": [
    "import streamlit as st\n",
    "import yfinance as yf\n",
    "\n",
    "import pandas as pd\n",
    "import numpy as np\n",
    "\n",
    "\n",
    "st.title('Stock Market App')\n",
    "\n",
    "st.write('This app is my first app')\n",
    "\n",
    "ticker_symbol = 'AAPL'\n",
    "ticker_data = yf.Ticker(ticker_symbol)\n",
    "\n",
    "# get historical market data\n",
    "hist = ticker_data.history(period='1d',\n",
    "                             start='2019-01-01',\n",
    "                             end='2023-05-21')"
   ]
  },
  {
   "cell_type": "code",
   "execution_count": 5,
   "metadata": {},
   "outputs": [
    {
     "data": {
      "text/plain": [
       "DatetimeIndex(['2019-01-02 00:00:00-05:00', '2019-01-03 00:00:00-05:00',\n",
       "               '2019-01-04 00:00:00-05:00', '2019-01-07 00:00:00-05:00',\n",
       "               '2019-01-08 00:00:00-05:00', '2019-01-09 00:00:00-05:00',\n",
       "               '2019-01-10 00:00:00-05:00', '2019-01-11 00:00:00-05:00',\n",
       "               '2019-01-14 00:00:00-05:00', '2019-01-15 00:00:00-05:00',\n",
       "               ...\n",
       "               '2023-05-08 00:00:00-04:00', '2023-05-09 00:00:00-04:00',\n",
       "               '2023-05-10 00:00:00-04:00', '2023-05-11 00:00:00-04:00',\n",
       "               '2023-05-12 00:00:00-04:00', '2023-05-15 00:00:00-04:00',\n",
       "               '2023-05-16 00:00:00-04:00', '2023-05-17 00:00:00-04:00',\n",
       "               '2023-05-18 00:00:00-04:00', '2023-05-19 00:00:00-04:00'],\n",
       "              dtype='datetime64[ns, America/New_York]', name='Date', length=1104, freq=None)"
      ]
     },
     "execution_count": 5,
     "metadata": {},
     "output_type": "execute_result"
    }
   ],
   "source": [
    "hist.index"
   ]
  },
  {
   "cell_type": "code",
   "execution_count": 2,
   "metadata": {},
   "outputs": [
    {
     "name": "stderr",
     "output_type": "stream",
     "text": [
      "c:\\Users\\Shivam\\miniconda3\\envs\\mlops\\lib\\site-packages\\sklearn\\base.py:347: InconsistentVersionWarning: Trying to unpickle estimator LinearRegression from version 1.0.2 when using version 1.3.0. This might lead to breaking code or invalid results. Use at your own risk. For more info please refer to:\n",
      "https://scikit-learn.org/stable/model_persistence.html#security-maintainability-limitations\n",
      "  warnings.warn(\n"
     ]
    }
   ],
   "source": [
    "import pickle\n",
    "\n",
    "# load car_pred model\n",
    "\n",
    "pickle_in = open('car_pred', 'rb')\n",
    "car_pred = pickle.load(pickle_in)\n"
   ]
  },
  {
   "cell_type": "code",
   "execution_count": null,
   "metadata": {},
   "outputs": [],
   "source": []
  },
  {
   "cell_type": "code",
   "execution_count": 3,
   "metadata": {},
   "outputs": [
    {
     "data": {
      "text/plain": [
       "sklearn.linear_model._base.LinearRegression"
      ]
     },
     "execution_count": 3,
     "metadata": {},
     "output_type": "execute_result"
    }
   ],
   "source": [
    "type(car_pred)"
   ]
  }
 ],
 "metadata": {
  "kernelspec": {
   "display_name": "mlops",
   "language": "python",
   "name": "python3"
  },
  "language_info": {
   "codemirror_mode": {
    "name": "ipython",
    "version": 3
   },
   "file_extension": ".py",
   "mimetype": "text/x-python",
   "name": "python",
   "nbconvert_exporter": "python",
   "pygments_lexer": "ipython3",
   "version": "3.9.18"
  },
  "orig_nbformat": 4,
  "vscode": {
   "interpreter": {
    "hash": "1b8cc2443dac255f5863d925b738cfe3a24d8333c04bb14f72dfd9c643c8ae38"
   }
  }
 },
 "nbformat": 4,
 "nbformat_minor": 2
}
